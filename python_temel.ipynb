{
  "nbformat": 4,
  "nbformat_minor": 0,
  "metadata": {
    "colab": {
      "name": "Untitled1.ipynb",
      "provenance": [],
      "authorship_tag": "ABX9TyP+MkjpdNc9isyzAmlAG1kC",
      "include_colab_link": true
    },
    "kernelspec": {
      "name": "python3",
      "display_name": "Python 3"
    },
    "language_info": {
      "name": "python"
    }
  },
  "cells": [
    {
      "cell_type": "markdown",
      "metadata": {
        "id": "view-in-github",
        "colab_type": "text"
      },
      "source": [
        "<a href=\"https://colab.research.google.com/github/selenslmn/DSPG/blob/main/python_temel.ipynb\" target=\"_parent\"><img src=\"https://colab.research.google.com/assets/colab-badge.svg\" alt=\"Open In Colab\"/></a>"
      ]
    },
    {
      "cell_type": "code",
      "metadata": {
        "id": "EmE_h8le2Grh",
        "outputId": "b8e0f4ef-dafb-4188-f306-377a8f86e6c1",
        "colab": {
          "base_uri": "https://localhost:8080/"
        }
      },
      "source": [
        "#1\n",
        "def flatten(liste):\n",
        "    duz_liste = []\n",
        "    for i in liste:\n",
        "        if type(i)!=type([]):\n",
        "            duz_liste.append(i)\n",
        "        else:\n",
        "            duz_liste.extend(flatten(i))\n",
        "    return duz_liste\n",
        "\n",
        "#Örnek:\n",
        "flatten([[1,'a',['cat'],2],[[[3]],'dog'],4,5])"
      ],
      "execution_count": 1,
      "outputs": [
        {
          "output_type": "execute_result",
          "data": {
            "text/plain": [
              "[1, 'a', 'cat', 2, 3, 'dog', 4, 5]"
            ]
          },
          "metadata": {
            "tags": []
          },
          "execution_count": 1
        }
      ]
    },
    {
      "cell_type": "code",
      "metadata": {
        "id": "jU9-dEJs2I7S",
        "outputId": "7d6a32eb-8600-4c21-b1b7-4e69e873deba",
        "colab": {
          "base_uri": "https://localhost:8080/"
        }
      },
      "source": [
        "#2\n",
        "def ters(liste):\n",
        "    sonuc = []\n",
        "    for i in liste:\n",
        "        sonuc.append(i[::-1])\n",
        "    liste[:] = sonuc[::-1]\n",
        "    return liste\n",
        "\n",
        "#Örnek:\n",
        "ters([[1, 2], [3, 4], [5, 6, 7]])"
      ],
      "execution_count": 2,
      "outputs": [
        {
          "output_type": "execute_result",
          "data": {
            "text/plain": [
              "[[7, 6, 5], [4, 3], [2, 1]]"
            ]
          },
          "metadata": {
            "tags": []
          },
          "execution_count": 2
        }
      ]
    }
  ]
}