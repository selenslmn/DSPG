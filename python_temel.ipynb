{
  "nbformat": 4,
  "nbformat_minor": 0,
  "metadata": {
    "colab": {
      "name": "Untitled1.ipynb",
      "provenance": [],
      "authorship_tag": "ABX9TyN8nemAsX+uz7GQyrjwMJR6"
    },
    "kernelspec": {
      "name": "python3",
      "display_name": "Python 3"
    },
    "language_info": {
      "name": "python"
    }
  },
  "cells": [
    {
      "cell_type": "code",
      "metadata": {
        "id": "EmE_h8le2Grh"
      },
      "source": [
        "#1\n",
        "def flatten(liste):\n",
        "    duz_liste = []\n",
        "    for i in liste:\n",
        "        if type(i)!=type([]):\n",
        "            duz_liste.append(i)\n",
        "        else:\n",
        "            duz_liste.extend(flatten(i))\n",
        "    return duz_liste"
      ],
      "execution_count": null,
      "outputs": []
    },
    {
      "cell_type": "code",
      "metadata": {
        "id": "jU9-dEJs2I7S"
      },
      "source": [
        "#2\n",
        "def ters(liste):\n",
        "    sonuc = []\n",
        "    for i in liste:\n",
        "        sonuc.append(i[::-1])\n",
        "    liste[:] = sonuc[::-1]\n",
        "    return liste"
      ],
      "execution_count": null,
      "outputs": []
    }
  ]
}